{
 "cells": [
  {
   "cell_type": "code",
   "execution_count": 1,
   "metadata": {},
   "outputs": [
    {
     "name": "stderr",
     "output_type": "stream",
     "text": [
      "c:\\Users\\user\\anaconda3\\envs\\summarizerP39\\lib\\site-packages\\tqdm\\auto.py:22: TqdmWarning: IProgress not found. Please update jupyter and ipywidgets. See https://ipywidgets.readthedocs.io/en/stable/user_install.html\n",
      "  from .autonotebook import tqdm as notebook_tqdm\n"
     ]
    }
   ],
   "source": [
    "import torch"
   ]
  },
  {
   "cell_type": "code",
   "execution_count": 2,
   "metadata": {},
   "outputs": [],
   "source": [
    "# function is used to onehot encode a number\n",
    "# number (int) refers to the number to be endcoded\n",
    "# total (int) is the numebr out of which we are encoding number\n",
    "# returns onehot encoded 1D tensor with [total] amount of zeros, with a 1 in the place of [number]\n",
    "def onehot(number, total):\n",
    "    # fill the encoded tensor with [total amount of zeros]\n",
    "    encoded = torch.zeros(total)\n",
    "    # place a 1 on [number]\n",
    "    encoded[number] = 1\n",
    "    # return\n",
    "    return encoded"
   ]
  },
  {
   "cell_type": "code",
   "execution_count": 3,
   "metadata": {},
   "outputs": [],
   "source": [
    "# this function is used to onehot encode a sentence / text\n",
    "# text (str) refers to the text that will be encoded\n",
    "# returns onehot encoded values of the text based of off the encoder_words.txt file\n",
    "def encode_text(text):\n",
    "    # split the text to be encoded into words (split every space)\n",
    "    text = text.split()\n",
    "    # define the tensor that we will be adding the encoded values to\n",
    "    encoded = torch.tensor([], dtype=torch.float32)\n",
    "    \n",
    "    # open the encoder_words.txt file\n",
    "    with open(\"encoder_words.txt\") as encoder_words:\n",
    "        # extract the text from the file, and lower all of it, split it into words (split every \\n)\n",
    "        encoder_words = encoder_words.read().lower().split(\"\\n\")\n",
    "        \n",
    "        # loop over the words that should be encoded\n",
    "        for x in text:\n",
    "            # command explanation:\n",
    "            # 1: get the index of the word that we are currently trying to encode from the encoder words list\n",
    "            # 2: onehot encode the current word [number] = index of thee word, [total] = length of all words from vocabulary\n",
    "            # 3: append the encoded tensor to the [encoded] collection variable\n",
    "            # 4: if there is no such word in the encoder_words list, we append all zeros\n",
    "            encoded = torch.cat((encoded, onehot([i for i, s in enumerate(encoder_words) if s == x], len(encoder_words))))\n",
    "    \n",
    "    # return\n",
    "    return encoded"
   ]
  },
  {
   "cell_type": "code",
   "execution_count": 5,
   "metadata": {},
   "outputs": [
    {
     "data": {
      "text/plain": [
       "tensor([0., 1., 0., 0., 0., 0., 0., 0., 0., 0., 0., 0., 1., 0., 0., 0., 0., 0.,\n",
       "        0., 0., 0., 0., 0., 1., 0., 0., 0., 0., 0., 0., 0., 0., 0., 0., 0., 0.,\n",
       "        0., 0., 0., 0., 0., 0., 0., 0., 1., 0., 0., 0., 0., 0., 0., 0., 0., 0.,\n",
       "        0., 1., 0., 0., 0., 0.])"
      ]
     },
     "execution_count": 5,
     "metadata": {},
     "output_type": "execute_result"
    }
   ],
   "source": [
    "encode_text(\"one two three asdasdasdasd four five\")"
   ]
  },
  {
   "cell_type": "code",
   "execution_count": null,
   "metadata": {},
   "outputs": [],
   "source": []
  }
 ],
 "metadata": {
  "kernelspec": {
   "display_name": "summarizerP39",
   "language": "python",
   "name": "python3"
  },
  "language_info": {
   "codemirror_mode": {
    "name": "ipython",
    "version": 3
   },
   "file_extension": ".py",
   "mimetype": "text/x-python",
   "name": "python",
   "nbconvert_exporter": "python",
   "pygments_lexer": "ipython3",
   "version": "3.9.16"
  },
  "orig_nbformat": 4,
  "vscode": {
   "interpreter": {
    "hash": "9b43d17c9863ad71bb720511b742067fea195f4abd39df88d825c8578212462e"
   }
  }
 },
 "nbformat": 4,
 "nbformat_minor": 2
}
